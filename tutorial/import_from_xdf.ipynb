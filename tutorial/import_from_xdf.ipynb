{
 "cells": [
  {
   "attachments": {},
   "cell_type": "markdown",
   "metadata": {},
   "source": [
    "# Importing XDF files in HyPyP\n",
    "@Author : [@jonasmago](https://github.com/jonasmago) & [@FranckPrts](https://github.com/FranckPrts).\n",
    "\n",
    "Last updated: March 2023\n",
    "\n",
    "This tutorial guides you in using the `XDF_IMPORT` class provided by [hypyp.io.py](https://github.com/ppsp-team/HyPyP/blob/master/hypyp/io.py).\n",
    "\n",
    "[XDF files](https://github.com/sccn/xdf) are generally produced by [LSL](https://labstreaminglayer.readthedocs.io/index.html) when recording multi-stream time-series data generated in different modalities (e.g., EEG, video, audio). This open-source format enables associating extensive meta information. It is tailored for biosignal data (e.g., EEG, EOG, ECG, MEG) but still supports high sampling rate data (e.g., audio) or high-channel data (e.g., video, fMRI).\n",
    "\n",
    "In this tutorial, we convert 2 streams from a sample XDF (containing 2 EEG streams and 4 video streams) into 2 `mne.Raw`.\n"
   ]
  },
  {
   "cell_type": "markdown",
   "metadata": {},
   "source": [
    "## Imports"
   ]
  },
  {
   "cell_type": "code",
   "execution_count": null,
   "metadata": {},
   "outputs": [],
   "source": [
    "from hypyp.io import XDF_IMPORT"
   ]
  },
  {
   "cell_type": "markdown",
   "metadata": {},
   "source": [
    "## Define path to XDF file(s)"
   ]
  },
  {
   "cell_type": "code",
   "execution_count": null,
   "metadata": {},
   "outputs": [],
   "source": [
    "path_xdf = \"../data/SAMPLE-XDF.xdf\" #insert path to XDF file here"
   ]
  },
  {
   "cell_type": "markdown",
   "metadata": {},
   "source": [
    "## The `XDF_IMPORT` class"
   ]
  },
  {
   "attachments": {},
   "cell_type": "markdown",
   "metadata": {},
   "source": [
    "The class has the following arguments:\n",
    "- `path` : (str) Path to LSL data (i.e., XDF file). Can be absolute or relative. \n",
    "- `stream_idx` : (list) List of the stream index(es) in the XDF the user whish to import (must be of type \"EEG\"). By default, `None`. When set to `None`, `stream_idx` is appended the index of all streams of type `\"EEG\"`.\n",
    "- `eeg_montage` (string) montage to apply to the eeg object that are converted. (all montages availables with mne can be found by running `mne.channels.get_builtin_montages()`)\n",
    "- `sfreq` : (float) Sampling frequency, can either be set automatically by the class or given by the user.\n",
    "- `print_stream_name` : (boolean) Wheather the class should print the stream and their respective index in the XDF. By default, `True`.\n",
    "- `convert_all_eeg` : (boolean) Defines if the class must automatically look for stream(s) of `type=\"EEG\"` and convert them. By default, `True`.\n",
    "- `type` : (str) Define which type of stream the user is looking for. When converting EEG streams, or using  `convert_all_eeg=True`, the type must be set to \"EEG\". By default, `\"EEG\"`."
   ]
  },
  {
   "cell_type": "markdown",
   "metadata": {},
   "source": [
    "First, we instanciat the class naively with `print_stream_name=True` and `convert_all_eeg=False` to see what is inside our XDF. \n",
    "\n",
    "*We leave `sfreq` and `type` to their respective defaults so the class respectively determines the sampling rate and search for the EEG streams and their respective informations.*"
   ]
  },
  {
   "cell_type": "code",
   "execution_count": null,
   "metadata": {},
   "outputs": [],
   "source": [
    "eeg = XDF_IMPORT(path_xdf, print_stream_name=True, convert_all_eeg=False)"
   ]
  },
  {
   "cell_type": "markdown",
   "metadata": {},
   "source": [
    "**Great!** Now we know what our XDF is conposed of. Let's explore different ways of converting on or multiple EEG stream from it into `mne.Raw` object(s)."
   ]
  },
  {
   "cell_type": "markdown",
   "metadata": {},
   "source": [
    "### 4 ways to use `IMPORT_XDF`"
   ]
  },
  {
   "cell_type": "markdown",
   "metadata": {},
   "source": [
    "\n",
    "Here we look into 4 examples where we use `IMPORT_XDF` to convert the EEG streams into `mne.Raw`(s):\n",
    "- **Situation 1:** The user wants to (blindly) **convert all** available EEG stream(s) in the XDF into `mne.Raw`(s)\n",
    "- **Situation 2:** The user knows the index of **the one** EEG stream they want to convert\n",
    "- **Situation 3:** The user knows the indexes of the **multiple** EEG streams they want to convert\n",
    "- **Situation 4:** The user wants to convert EEG stream(s) using partial descriptions of the stream(s) of interest\n",
    "    - **Situation 4.1:** With one stream\n",
    "    - **Situation 4.2:** With two streams\n",
    "    - **Situation 4.3:** With one stream, but the user first gives a vague description"
   ]
  },
  {
   "cell_type": "markdown",
   "metadata": {},
   "source": [
    "#### Situation 1\n",
    "The user wants to (blindly) **convert all** available EEG stream(s) in the XDF into `mne.Raw`(s)."
   ]
  },
  {
   "cell_type": "code",
   "execution_count": null,
   "metadata": {},
   "outputs": [],
   "source": [
    "eeg = XDF_IMPORT(path_xdf, print_stream_name=False, convert_all_eeg=True)"
   ]
  },
  {
   "cell_type": "code",
   "execution_count": null,
   "metadata": {},
   "outputs": [],
   "source": [
    "eeg.raw_all"
   ]
  },
  {
   "cell_type": "markdown",
   "metadata": {},
   "source": [
    "#### Situation 2\n",
    "The user knows the index of **the one** EEG stream they want to convert."
   ]
  },
  {
   "cell_type": "code",
   "execution_count": null,
   "metadata": {},
   "outputs": [],
   "source": [
    "eeg = XDF_IMPORT(path_xdf, stream_idx= [1], print_stream_name=False, convert_all_eeg=False)"
   ]
  },
  {
   "cell_type": "code",
   "execution_count": null,
   "metadata": {},
   "outputs": [],
   "source": [
    "eeg.raw_all"
   ]
  },
  {
   "cell_type": "markdown",
   "metadata": {},
   "source": [
    "#### Situation 3\n",
    "The user knows the indexes of the **multiple** EEG streams they want to convert."
   ]
  },
  {
   "cell_type": "code",
   "execution_count": null,
   "metadata": {},
   "outputs": [],
   "source": [
    "eeg = XDF_IMPORT(path_xdf, stream_idx= [0, 1], print_stream_name=False, convert_all_eeg=False)"
   ]
  },
  {
   "cell_type": "code",
   "execution_count": null,
   "metadata": {},
   "outputs": [],
   "source": [
    "eeg.raw_all"
   ]
  },
  {
   "cell_type": "markdown",
   "metadata": {},
   "source": [
    "#### Situation 4\n",
    "The user wants to convert EEG stream(s) using partial descriptions of the stream(s) of interest."
   ]
  },
  {
   "cell_type": "markdown",
   "metadata": {},
   "source": [
    "##### Situation 4.1\n",
    "With one stream."
   ]
  },
  {
   "cell_type": "code",
   "execution_count": null,
   "metadata": {},
   "outputs": [],
   "source": [
    "eeg = XDF_IMPORT(path_xdf, stream_idx= ['SNS_082'], print_stream_name=False, convert_all_eeg=False)"
   ]
  },
  {
   "cell_type": "code",
   "execution_count": null,
   "metadata": {},
   "outputs": [],
   "source": [
    "eeg.raw_all"
   ]
  },
  {
   "cell_type": "markdown",
   "metadata": {},
   "source": [
    "##### Situation 4.2\n",
    "With two streams."
   ]
  },
  {
   "cell_type": "code",
   "execution_count": null,
   "metadata": {},
   "outputs": [],
   "source": [
    "eeg = XDF_IMPORT(path_xdf, stream_idx= ['SNS_082', '1S_'], print_stream_name=False, convert_all_eeg=False)"
   ]
  },
  {
   "cell_type": "code",
   "execution_count": null,
   "metadata": {},
   "outputs": [],
   "source": [
    "eeg.raw_all"
   ]
  },
  {
   "cell_type": "markdown",
   "metadata": {},
   "source": [
    "##### Situation 4.3\n",
    "With one stream only, but the user was not precise enough in their query so the class returned the two matching options.\n",
    "\n",
    "The user has enter `SNS` which matches the name of two streams. The class returns the list of streams that matches the query:"
   ]
  },
  {
   "cell_type": "code",
   "execution_count": null,
   "metadata": {},
   "outputs": [],
   "source": [
    "eeg = XDF_IMPORT(path_xdf, stream_idx= ['SNS'], print_stream_name=False, convert_all_eeg=False)"
   ]
  },
  {
   "attachments": {},
   "cell_type": "markdown",
   "metadata": {},
   "source": [
    "❗️XDF_IMPORT raised an `Exception`❗️\n",
    "\n",
    "As the `Exception`'s message says, there is more than one stream that matched the partial name that we gave. To fix that, we'll re-run the class while specifying which stream(s) to import:"
   ]
  },
  {
   "cell_type": "code",
   "execution_count": null,
   "metadata": {},
   "outputs": [],
   "source": [
    "eeg = XDF_IMPORT(path_xdf, stream_idx= ['81'], print_stream_name=False, convert_all_eeg=False)"
   ]
  },
  {
   "cell_type": "code",
   "execution_count": null,
   "metadata": {},
   "outputs": [],
   "source": [
    "eeg.raw_all"
   ]
  },
  {
   "attachments": {},
   "cell_type": "markdown",
   "metadata": {},
   "source": [
    "## Extracting the XDF_IMPORT's output(s)"
   ]
  },
  {
   "cell_type": "markdown",
   "metadata": {},
   "source": [
    "You can now find the `Raw` that were converted in the dictionary `eeg.raw_all`:"
   ]
  },
  {
   "cell_type": "code",
   "execution_count": null,
   "metadata": {},
   "outputs": [],
   "source": [
    "eeg.raw_all"
   ]
  },
  {
   "cell_type": "markdown",
   "metadata": {},
   "source": [
    "The name of the original XDF stream name is also stored in the `subject_info` dictionary nested in `Raw.Info`. So even if you separate a `Raw` from its key, you can still find the stream name's in its info."
   ]
  },
  {
   "cell_type": "code",
   "execution_count": null,
   "metadata": {},
   "outputs": [],
   "source": [
    "# Find the name of a stream converted mne (here the first one)\n",
    "any_raw = list(eeg.raw_all.keys())[0] \n",
    "\n",
    "# Print the name of the first converted stream\n",
    "print('Picked raw: {}'.format(any_raw))\n",
    "\n",
    "# Extract the chosen Raw from the eeg.raw_all list\n",
    "standalone_raw = eeg.raw_all[any_raw]\n",
    "\n",
    "# Print the name of the stream from the Raw.info object itself\n",
    "print('standalone_raw subject info: {}'.format(standalone_raw.info[\"subject_info\"]['his_idstr']))"
   ]
  },
  {
   "attachments": {},
   "cell_type": "markdown",
   "metadata": {},
   "source": [
    "Here we also convert the stream in uV to V"
   ]
  },
  {
   "cell_type": "code",
   "execution_count": null,
   "metadata": {},
   "outputs": [],
   "source": [
    "# def convert_to_volts(x):\n",
    "#     return x / 1e6\n",
    "# eeg.raw_all[\"SNS_081S_N_EEG\"].apply_function(convert_to_volts)"
   ]
  },
  {
   "cell_type": "code",
   "execution_count": null,
   "metadata": {},
   "outputs": [],
   "source": [
    "eeg.raw_all[\"SNS_081S_N_EEG\"].plot()"
   ]
  },
  {
   "attachments": {},
   "cell_type": "markdown",
   "metadata": {},
   "source": [
    "## Montage"
   ]
  },
  {
   "attachments": {},
   "cell_type": "markdown",
   "metadata": {},
   "source": [
    "**Careful!** \n",
    "\n",
    "`XDF_IMPORT` does not set the montage automatically! Now that we have converted our stream(s) to `mne.Raw` object(s), we can fix that by setting the montage following [mne's general instruction for setting montage](https://mne.tools/stable/auto_tutorials/intro/40_sensor_locations.html#about-montages-and-layouts). For example:"
   ]
  },
  {
   "cell_type": "code",
   "execution_count": null,
   "metadata": {},
   "outputs": [],
   "source": [
    "# Set the montage to the standard 10-20 montage\n",
    "eeg.raw_all['SNS_081S_N_EEG'].set_montage('standard_1020')\n",
    "\n",
    "# Plot the sensors\n",
    "eeg.raw_all['SNS_081S_N_EEG'].plot_sensors(show_names=True)"
   ]
  },
  {
   "attachments": {},
   "cell_type": "markdown",
   "metadata": {},
   "source": [
    "## Trying with 1st PPSP XDF file"
   ]
  },
  {
   "cell_type": "code",
   "execution_count": null,
   "metadata": {},
   "outputs": [],
   "source": [
    "from hypyp.io import XDF_IMPORT\n",
    "\n",
    "PPSP_path_xdf = '../data/2023-02-24_TEST_MARMOT.xdf'\n",
    "\n",
    "# eeg = XDF_IMPORT(PPSP_path_xdf, stream_idx=[8], print_stream_name=True, convert_all_eeg=False)\n",
    "eeg = XDF_IMPORT(PPSP_path_xdf, print_stream_name=True, convert_all_eeg=True)"
   ]
  },
  {
   "cell_type": "code",
   "execution_count": null,
   "metadata": {},
   "outputs": [],
   "source": [
    "eeg.raw_all"
   ]
  },
  {
   "cell_type": "code",
   "execution_count": null,
   "metadata": {},
   "outputs": [],
   "source": [
    "eeg.raw_all['EGI NetAmp 0-StreamIndex-8'].plot()"
   ]
  },
  {
   "cell_type": "code",
   "execution_count": null,
   "metadata": {},
   "outputs": [],
   "source": [
    "for i in eeg.data[8]['info'].keys():\n",
    "    print(i, '\\t—————\\t', eeg.data[8]['info'][i])"
   ]
  },
  {
   "attachments": {},
   "cell_type": "markdown",
   "metadata": {},
   "source": [
    "## Trying with 2nd PPSP XDF file"
   ]
  },
  {
   "cell_type": "code",
   "execution_count": null,
   "metadata": {},
   "outputs": [],
   "source": [
    "PPSP_path_xdf = '../data/test_lsl_2eeg.xdf'\n",
    "eeg = XDF_IMPORT(PPSP_path_xdf, print_stream_name=True, convert_all_eeg=True)"
   ]
  },
  {
   "cell_type": "code",
   "execution_count": null,
   "metadata": {},
   "outputs": [],
   "source": [
    "type(eeg.raw_all['EGI NetAmp 0-StreamIndex-0'])"
   ]
  },
  {
   "cell_type": "code",
   "execution_count": null,
   "metadata": {},
   "outputs": [],
   "source": [
    "# Plot eeg\n",
    "eeg.raw_all['EGI NetAmp 0-StreamIndex-0'].plot()"
   ]
  },
  {
   "cell_type": "code",
   "execution_count": null,
   "metadata": {},
   "outputs": [],
   "source": [
    "# Plot eeg\n",
    "eeg.raw_all['EGI NetAmp 0-StreamIndex-1'].plot()"
   ]
  },
  {
   "attachments": {},
   "cell_type": "markdown",
   "metadata": {},
   "source": [
    "## Trying with 3rd PPSP XDF file"
   ]
  },
  {
   "cell_type": "code",
   "execution_count": null,
   "metadata": {},
   "outputs": [],
   "source": [
    "PPSP_path_xdf = '../data/piloting_michael_phoebe.xdf'\n",
    "eeg = XDF_IMPORT(PPSP_path_xdf, print_stream_name=True, convert_all_eeg=True)"
   ]
  },
  {
   "cell_type": "code",
   "execution_count": null,
   "metadata": {},
   "outputs": [],
   "source": [
    "eeg.raw_all"
   ]
  },
  {
   "cell_type": "code",
   "execution_count": null,
   "metadata": {},
   "outputs": [],
   "source": [
    "eeg.raw_all[\"BBT-E32-AAB033_EEG_0\"].plot()"
   ]
  },
  {
   "attachments": {},
   "cell_type": "markdown",
   "metadata": {},
   "source": [
    "## Now with the XDF provided by MNE"
   ]
  },
  {
   "cell_type": "code",
   "execution_count": null,
   "metadata": {},
   "outputs": [],
   "source": [
    "import mne\n",
    "from mne.datasets import misc\n",
    "\n",
    "MNE_path_xdf = (\n",
    "    misc.data_path() / 'xdf' /\n",
    "    'sub-P001_ses-S004_task-Default_run-001_eeg_a2.xdf')\n",
    "\n",
    "\n",
    "\n",
    "# streams, header = pyxdf.load_xdf(fname)\n",
    "# data = streams[0][\"time_series\"].T\n",
    "# assert data.shape[0] == 5  # four raw EEG plus one stim channel\n",
    "# data[:4:2] -= data[1:4:2]  # subtract (rereference) to get two bipolar EEG\n",
    "# data = data[::2]  # subselect\n",
    "# data[:2] *= (1e-6 / 50 / 2)  # uV -> V and preamp gain\n",
    "# sfreq = float(streams[0][\"info\"][\"nominal_srate\"][0])\n",
    "# info = mne.create_info(3, sfreq, [\"eeg\", \"eeg\", \"stim\"])\n",
    "# raw = mne.io.RawArray(data, info)\n",
    "# raw.plot(scalings=dict(eeg=100e-6), duration=1, start=14)"
   ]
  },
  {
   "cell_type": "code",
   "execution_count": null,
   "metadata": {},
   "outputs": [],
   "source": [
    "eeg = XDF_IMPORT(MNE_path_xdf, print_stream_name=True, convert_all_eeg=True)"
   ]
  },
  {
   "cell_type": "code",
   "execution_count": null,
   "metadata": {},
   "outputs": [],
   "source": [
    "eeg.raw_all"
   ]
  },
  {
   "cell_type": "code",
   "execution_count": null,
   "metadata": {},
   "outputs": [],
   "source": [
    "eeg.raw_all[\"actiCHamp-16080699\"] = eeg.raw_all[\"actiCHamp-16080699\"]\n",
    "# eeg.raw_all['actiCHamp-16080699'].plot()\n",
    "eeg.raw_all['actiCHamp-16080699'].plot(scalings='auto')"
   ]
  },
  {
   "attachments": {},
   "cell_type": "markdown",
   "metadata": {},
   "source": [
    "## Conclusion\n",
    "The XDF_IMPORT class can be used to import in `mne.Raw` format one or multiple EEG streams present in a XDF file at a time. These objects are then accessible in the `raw_all` list of the instantiated class, and their montage can be set from there following [mne's general instruction for setting montage](https://mne.tools/stable/auto_tutorials/intro/40_sensor_locations.html#about-montages-and-layouts)."
   ]
  }
 ],
 "metadata": {
  "kernelspec": {
   "display_name": "hypyp-Wt1ANJdw-py3.8",
   "language": "python",
   "name": "python3"
  },
  "language_info": {
   "codemirror_mode": {
    "name": "ipython",
    "version": 3
   },
   "file_extension": ".py",
   "mimetype": "text/x-python",
   "name": "python",
   "nbconvert_exporter": "python",
   "pygments_lexer": "ipython3",
   "version": "3.8.8"
  },
  "orig_nbformat": 4,
  "vscode": {
   "interpreter": {
    "hash": "d893ddd744522549297333e55167b557e080df9b2aeaba62aeb413c16125d323"
   }
  }
 },
 "nbformat": 4,
 "nbformat_minor": 2
}
