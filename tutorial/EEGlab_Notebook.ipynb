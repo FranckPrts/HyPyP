{
  "nbformat": 4,
  "nbformat_minor": 0,
  "metadata": {
    "colab": {
      "name": "EEGlab_Notebook.ipynb",
      "provenance": [],
      "collapsed_sections": []
    },
    "kernelspec": {
      "name": "python3",
      "display_name": "Python 3"
    },
    "language_info": {
      "name": "python"
    },
    "widgets": {
      "application/vnd.jupyter.widget-state+json": {
        "212de1778faa423aad56a6c3ce411800": {
          "model_module": "@jupyter-widgets/controls",
          "model_name": "HBoxModel",
          "model_module_version": "1.5.0",
          "state": {
            "_view_name": "HBoxView",
            "_dom_classes": [],
            "_model_name": "HBoxModel",
            "_view_module": "@jupyter-widgets/controls",
            "_model_module_version": "1.5.0",
            "_view_count": null,
            "_view_module_version": "1.5.0",
            "box_style": "",
            "layout": "IPY_MODEL_f9313d4ea1414d80ab90dc659f52293e",
            "_model_module": "@jupyter-widgets/controls",
            "children": [
              "IPY_MODEL_ff929eedcd6d43aeb47b7d0cc7452495",
              "IPY_MODEL_7b46b65e0cc9477ab43bfaffd9cf6ae0",
              "IPY_MODEL_58620e6ecc1d48479d24f60bba244e24"
            ]
          }
        },
        "f9313d4ea1414d80ab90dc659f52293e": {
          "model_module": "@jupyter-widgets/base",
          "model_name": "LayoutModel",
          "model_module_version": "1.2.0",
          "state": {
            "_view_name": "LayoutView",
            "grid_template_rows": null,
            "right": null,
            "justify_content": null,
            "_view_module": "@jupyter-widgets/base",
            "overflow": null,
            "_model_module_version": "1.2.0",
            "_view_count": null,
            "flex_flow": null,
            "width": null,
            "min_width": null,
            "border": null,
            "align_items": null,
            "bottom": null,
            "_model_module": "@jupyter-widgets/base",
            "top": null,
            "grid_column": null,
            "overflow_y": null,
            "overflow_x": null,
            "grid_auto_flow": null,
            "grid_area": null,
            "grid_template_columns": null,
            "flex": null,
            "_model_name": "LayoutModel",
            "justify_items": null,
            "grid_row": null,
            "max_height": null,
            "align_content": null,
            "visibility": null,
            "align_self": null,
            "height": null,
            "min_height": null,
            "padding": null,
            "grid_auto_rows": null,
            "grid_gap": null,
            "max_width": null,
            "order": null,
            "_view_module_version": "1.2.0",
            "grid_template_areas": null,
            "object_position": null,
            "object_fit": null,
            "grid_auto_columns": null,
            "margin": null,
            "display": null,
            "left": null
          }
        },
        "ff929eedcd6d43aeb47b7d0cc7452495": {
          "model_module": "@jupyter-widgets/controls",
          "model_name": "HTMLModel",
          "model_module_version": "1.5.0",
          "state": {
            "_view_name": "HTMLView",
            "style": "IPY_MODEL_ae9ca0dfed354428a81b240360179a56",
            "_dom_classes": [],
            "description": "",
            "_model_name": "HTMLModel",
            "placeholder": "​",
            "_view_module": "@jupyter-widgets/controls",
            "_model_module_version": "1.5.0",
            "value": "100%",
            "_view_count": null,
            "_view_module_version": "1.5.0",
            "description_tooltip": null,
            "_model_module": "@jupyter-widgets/controls",
            "layout": "IPY_MODEL_f0d5abce2ad74b5a920bd0386ebab6c3"
          }
        },
        "7b46b65e0cc9477ab43bfaffd9cf6ae0": {
          "model_module": "@jupyter-widgets/controls",
          "model_name": "FloatProgressModel",
          "model_module_version": "1.5.0",
          "state": {
            "_view_name": "ProgressView",
            "style": "IPY_MODEL_ff0b27855f7d41629724b2a26cfd5899",
            "_dom_classes": [],
            "description": "",
            "_model_name": "FloatProgressModel",
            "bar_style": "success",
            "max": 4999,
            "_view_module": "@jupyter-widgets/controls",
            "_model_module_version": "1.5.0",
            "value": 4999,
            "_view_count": null,
            "_view_module_version": "1.5.0",
            "orientation": "horizontal",
            "min": 0,
            "description_tooltip": null,
            "_model_module": "@jupyter-widgets/controls",
            "layout": "IPY_MODEL_798030beb9794d5f9e8d74ed99c2c994"
          }
        },
        "58620e6ecc1d48479d24f60bba244e24": {
          "model_module": "@jupyter-widgets/controls",
          "model_name": "HTMLModel",
          "model_module_version": "1.5.0",
          "state": {
            "_view_name": "HTMLView",
            "style": "IPY_MODEL_64c8cacbc9734fdbbecf4dde33bfe1f2",
            "_dom_classes": [],
            "description": "",
            "_model_name": "HTMLModel",
            "placeholder": "​",
            "_view_module": "@jupyter-widgets/controls",
            "_model_module_version": "1.5.0",
            "value": "  : 4999/4999 [00:08&lt;00:00,  597.50it/s]",
            "_view_count": null,
            "_view_module_version": "1.5.0",
            "description_tooltip": null,
            "_model_module": "@jupyter-widgets/controls",
            "layout": "IPY_MODEL_90f161cb36194d0186413ba309db09ab"
          }
        },
        "ae9ca0dfed354428a81b240360179a56": {
          "model_module": "@jupyter-widgets/controls",
          "model_name": "DescriptionStyleModel",
          "model_module_version": "1.5.0",
          "state": {
            "_view_name": "StyleView",
            "_model_name": "DescriptionStyleModel",
            "description_width": "",
            "_view_module": "@jupyter-widgets/base",
            "_model_module_version": "1.5.0",
            "_view_count": null,
            "_view_module_version": "1.2.0",
            "_model_module": "@jupyter-widgets/controls"
          }
        },
        "f0d5abce2ad74b5a920bd0386ebab6c3": {
          "model_module": "@jupyter-widgets/base",
          "model_name": "LayoutModel",
          "model_module_version": "1.2.0",
          "state": {
            "_view_name": "LayoutView",
            "grid_template_rows": null,
            "right": null,
            "justify_content": null,
            "_view_module": "@jupyter-widgets/base",
            "overflow": null,
            "_model_module_version": "1.2.0",
            "_view_count": null,
            "flex_flow": null,
            "width": null,
            "min_width": null,
            "border": null,
            "align_items": null,
            "bottom": null,
            "_model_module": "@jupyter-widgets/base",
            "top": null,
            "grid_column": null,
            "overflow_y": null,
            "overflow_x": null,
            "grid_auto_flow": null,
            "grid_area": null,
            "grid_template_columns": null,
            "flex": null,
            "_model_name": "LayoutModel",
            "justify_items": null,
            "grid_row": null,
            "max_height": null,
            "align_content": null,
            "visibility": null,
            "align_self": null,
            "height": null,
            "min_height": null,
            "padding": null,
            "grid_auto_rows": null,
            "grid_gap": null,
            "max_width": null,
            "order": null,
            "_view_module_version": "1.2.0",
            "grid_template_areas": null,
            "object_position": null,
            "object_fit": null,
            "grid_auto_columns": null,
            "margin": null,
            "display": null,
            "left": null
          }
        },
        "ff0b27855f7d41629724b2a26cfd5899": {
          "model_module": "@jupyter-widgets/controls",
          "model_name": "ProgressStyleModel",
          "model_module_version": "1.5.0",
          "state": {
            "_view_name": "StyleView",
            "_model_name": "ProgressStyleModel",
            "description_width": "",
            "_view_module": "@jupyter-widgets/base",
            "_model_module_version": "1.5.0",
            "_view_count": null,
            "_view_module_version": "1.2.0",
            "bar_color": null,
            "_model_module": "@jupyter-widgets/controls"
          }
        },
        "798030beb9794d5f9e8d74ed99c2c994": {
          "model_module": "@jupyter-widgets/base",
          "model_name": "LayoutModel",
          "model_module_version": "1.2.0",
          "state": {
            "_view_name": "LayoutView",
            "grid_template_rows": null,
            "right": null,
            "justify_content": null,
            "_view_module": "@jupyter-widgets/base",
            "overflow": null,
            "_model_module_version": "1.2.0",
            "_view_count": null,
            "flex_flow": null,
            "width": null,
            "min_width": null,
            "border": null,
            "align_items": null,
            "bottom": null,
            "_model_module": "@jupyter-widgets/base",
            "top": null,
            "grid_column": null,
            "overflow_y": null,
            "overflow_x": null,
            "grid_auto_flow": null,
            "grid_area": null,
            "grid_template_columns": null,
            "flex": null,
            "_model_name": "LayoutModel",
            "justify_items": null,
            "grid_row": null,
            "max_height": null,
            "align_content": null,
            "visibility": null,
            "align_self": null,
            "height": null,
            "min_height": null,
            "padding": null,
            "grid_auto_rows": null,
            "grid_gap": null,
            "max_width": null,
            "order": null,
            "_view_module_version": "1.2.0",
            "grid_template_areas": null,
            "object_position": null,
            "object_fit": null,
            "grid_auto_columns": null,
            "margin": null,
            "display": null,
            "left": null
          }
        },
        "64c8cacbc9734fdbbecf4dde33bfe1f2": {
          "model_module": "@jupyter-widgets/controls",
          "model_name": "DescriptionStyleModel",
          "model_module_version": "1.5.0",
          "state": {
            "_view_name": "StyleView",
            "_model_name": "DescriptionStyleModel",
            "description_width": "",
            "_view_module": "@jupyter-widgets/base",
            "_model_module_version": "1.5.0",
            "_view_count": null,
            "_view_module_version": "1.2.0",
            "_model_module": "@jupyter-widgets/controls"
          }
        },
        "90f161cb36194d0186413ba309db09ab": {
          "model_module": "@jupyter-widgets/base",
          "model_name": "LayoutModel",
          "model_module_version": "1.2.0",
          "state": {
            "_view_name": "LayoutView",
            "grid_template_rows": null,
            "right": null,
            "justify_content": null,
            "_view_module": "@jupyter-widgets/base",
            "overflow": null,
            "_model_module_version": "1.2.0",
            "_view_count": null,
            "flex_flow": null,
            "width": null,
            "min_width": null,
            "border": null,
            "align_items": null,
            "bottom": null,
            "_model_module": "@jupyter-widgets/base",
            "top": null,
            "grid_column": null,
            "overflow_y": null,
            "overflow_x": null,
            "grid_auto_flow": null,
            "grid_area": null,
            "grid_template_columns": null,
            "flex": null,
            "_model_name": "LayoutModel",
            "justify_items": null,
            "grid_row": null,
            "max_height": null,
            "align_content": null,
            "visibility": null,
            "align_self": null,
            "height": null,
            "min_height": null,
            "padding": null,
            "grid_auto_rows": null,
            "grid_gap": null,
            "max_width": null,
            "order": null,
            "_view_module_version": "1.2.0",
            "grid_template_areas": null,
            "object_position": null,
            "object_fit": null,
            "grid_auto_columns": null,
            "margin": null,
            "display": null,
            "left": null
          }
        },
        "acd680bc7e19412dbc01a9d7b1500265": {
          "model_module": "@jupyter-widgets/controls",
          "model_name": "HBoxModel",
          "model_module_version": "1.5.0",
          "state": {
            "_view_name": "HBoxView",
            "_dom_classes": [],
            "_model_name": "HBoxModel",
            "_view_module": "@jupyter-widgets/controls",
            "_model_module_version": "1.5.0",
            "_view_count": null,
            "_view_module_version": "1.5.0",
            "box_style": "",
            "layout": "IPY_MODEL_180cf1a8f89c4c9a8ddaa75fc178c45b",
            "_model_module": "@jupyter-widgets/controls",
            "children": [
              "IPY_MODEL_5011c651f480441781ef81e2c4101953",
              "IPY_MODEL_87dd376d662548c7a7c15a2610696f10",
              "IPY_MODEL_dd424613657c48c18928a4c1c46a3018"
            ]
          }
        },
        "180cf1a8f89c4c9a8ddaa75fc178c45b": {
          "model_module": "@jupyter-widgets/base",
          "model_name": "LayoutModel",
          "model_module_version": "1.2.0",
          "state": {
            "_view_name": "LayoutView",
            "grid_template_rows": null,
            "right": null,
            "justify_content": null,
            "_view_module": "@jupyter-widgets/base",
            "overflow": null,
            "_model_module_version": "1.2.0",
            "_view_count": null,
            "flex_flow": null,
            "width": null,
            "min_width": null,
            "border": null,
            "align_items": null,
            "bottom": null,
            "_model_module": "@jupyter-widgets/base",
            "top": null,
            "grid_column": null,
            "overflow_y": null,
            "overflow_x": null,
            "grid_auto_flow": null,
            "grid_area": null,
            "grid_template_columns": null,
            "flex": null,
            "_model_name": "LayoutModel",
            "justify_items": null,
            "grid_row": null,
            "max_height": null,
            "align_content": null,
            "visibility": null,
            "align_self": null,
            "height": null,
            "min_height": null,
            "padding": null,
            "grid_auto_rows": null,
            "grid_gap": null,
            "max_width": null,
            "order": null,
            "_view_module_version": "1.2.0",
            "grid_template_areas": null,
            "object_position": null,
            "object_fit": null,
            "grid_auto_columns": null,
            "margin": null,
            "display": null,
            "left": null
          }
        },
        "5011c651f480441781ef81e2c4101953": {
          "model_module": "@jupyter-widgets/controls",
          "model_name": "HTMLModel",
          "model_module_version": "1.5.0",
          "state": {
            "_view_name": "HTMLView",
            "style": "IPY_MODEL_7ae0f7f20025476aaaa2cc2122b6ae7d",
            "_dom_classes": [],
            "description": "",
            "_model_name": "HTMLModel",
            "placeholder": "​",
            "_view_module": "@jupyter-widgets/controls",
            "_model_module_version": "1.5.0",
            "value": "100%",
            "_view_count": null,
            "_view_module_version": "1.5.0",
            "description_tooltip": null,
            "_model_module": "@jupyter-widgets/controls",
            "layout": "IPY_MODEL_912457693f994028b3d476fd8aa65316"
          }
        },
        "87dd376d662548c7a7c15a2610696f10": {
          "model_module": "@jupyter-widgets/controls",
          "model_name": "FloatProgressModel",
          "model_module_version": "1.5.0",
          "state": {
            "_view_name": "ProgressView",
            "style": "IPY_MODEL_c7bf542901eb4371930b8ff86aa27080",
            "_dom_classes": [],
            "description": "",
            "_model_name": "FloatProgressModel",
            "bar_style": "success",
            "max": 4999,
            "_view_module": "@jupyter-widgets/controls",
            "_model_module_version": "1.5.0",
            "value": 4999,
            "_view_count": null,
            "_view_module_version": "1.5.0",
            "orientation": "horizontal",
            "min": 0,
            "description_tooltip": null,
            "_model_module": "@jupyter-widgets/controls",
            "layout": "IPY_MODEL_1dd4f4907ee04c96a9cd18e1b608c4db"
          }
        },
        "dd424613657c48c18928a4c1c46a3018": {
          "model_module": "@jupyter-widgets/controls",
          "model_name": "HTMLModel",
          "model_module_version": "1.5.0",
          "state": {
            "_view_name": "HTMLView",
            "style": "IPY_MODEL_3c8b92892f944abfbdf33e01ef884ac1",
            "_dom_classes": [],
            "description": "",
            "_model_name": "HTMLModel",
            "placeholder": "​",
            "_view_module": "@jupyter-widgets/controls",
            "_model_module_version": "1.5.0",
            "value": "  : 4999/4999 [00:09&lt;00:00,  495.36it/s]",
            "_view_count": null,
            "_view_module_version": "1.5.0",
            "description_tooltip": null,
            "_model_module": "@jupyter-widgets/controls",
            "layout": "IPY_MODEL_a2b541b15a5b4d178f1d4f05e510e264"
          }
        },
        "7ae0f7f20025476aaaa2cc2122b6ae7d": {
          "model_module": "@jupyter-widgets/controls",
          "model_name": "DescriptionStyleModel",
          "model_module_version": "1.5.0",
          "state": {
            "_view_name": "StyleView",
            "_model_name": "DescriptionStyleModel",
            "description_width": "",
            "_view_module": "@jupyter-widgets/base",
            "_model_module_version": "1.5.0",
            "_view_count": null,
            "_view_module_version": "1.2.0",
            "_model_module": "@jupyter-widgets/controls"
          }
        },
        "912457693f994028b3d476fd8aa65316": {
          "model_module": "@jupyter-widgets/base",
          "model_name": "LayoutModel",
          "model_module_version": "1.2.0",
          "state": {
            "_view_name": "LayoutView",
            "grid_template_rows": null,
            "right": null,
            "justify_content": null,
            "_view_module": "@jupyter-widgets/base",
            "overflow": null,
            "_model_module_version": "1.2.0",
            "_view_count": null,
            "flex_flow": null,
            "width": null,
            "min_width": null,
            "border": null,
            "align_items": null,
            "bottom": null,
            "_model_module": "@jupyter-widgets/base",
            "top": null,
            "grid_column": null,
            "overflow_y": null,
            "overflow_x": null,
            "grid_auto_flow": null,
            "grid_area": null,
            "grid_template_columns": null,
            "flex": null,
            "_model_name": "LayoutModel",
            "justify_items": null,
            "grid_row": null,
            "max_height": null,
            "align_content": null,
            "visibility": null,
            "align_self": null,
            "height": null,
            "min_height": null,
            "padding": null,
            "grid_auto_rows": null,
            "grid_gap": null,
            "max_width": null,
            "order": null,
            "_view_module_version": "1.2.0",
            "grid_template_areas": null,
            "object_position": null,
            "object_fit": null,
            "grid_auto_columns": null,
            "margin": null,
            "display": null,
            "left": null
          }
        },
        "c7bf542901eb4371930b8ff86aa27080": {
          "model_module": "@jupyter-widgets/controls",
          "model_name": "ProgressStyleModel",
          "model_module_version": "1.5.0",
          "state": {
            "_view_name": "StyleView",
            "_model_name": "ProgressStyleModel",
            "description_width": "",
            "_view_module": "@jupyter-widgets/base",
            "_model_module_version": "1.5.0",
            "_view_count": null,
            "_view_module_version": "1.2.0",
            "bar_color": null,
            "_model_module": "@jupyter-widgets/controls"
          }
        },
        "1dd4f4907ee04c96a9cd18e1b608c4db": {
          "model_module": "@jupyter-widgets/base",
          "model_name": "LayoutModel",
          "model_module_version": "1.2.0",
          "state": {
            "_view_name": "LayoutView",
            "grid_template_rows": null,
            "right": null,
            "justify_content": null,
            "_view_module": "@jupyter-widgets/base",
            "overflow": null,
            "_model_module_version": "1.2.0",
            "_view_count": null,
            "flex_flow": null,
            "width": null,
            "min_width": null,
            "border": null,
            "align_items": null,
            "bottom": null,
            "_model_module": "@jupyter-widgets/base",
            "top": null,
            "grid_column": null,
            "overflow_y": null,
            "overflow_x": null,
            "grid_auto_flow": null,
            "grid_area": null,
            "grid_template_columns": null,
            "flex": null,
            "_model_name": "LayoutModel",
            "justify_items": null,
            "grid_row": null,
            "max_height": null,
            "align_content": null,
            "visibility": null,
            "align_self": null,
            "height": null,
            "min_height": null,
            "padding": null,
            "grid_auto_rows": null,
            "grid_gap": null,
            "max_width": null,
            "order": null,
            "_view_module_version": "1.2.0",
            "grid_template_areas": null,
            "object_position": null,
            "object_fit": null,
            "grid_auto_columns": null,
            "margin": null,
            "display": null,
            "left": null
          }
        },
        "3c8b92892f944abfbdf33e01ef884ac1": {
          "model_module": "@jupyter-widgets/controls",
          "model_name": "DescriptionStyleModel",
          "model_module_version": "1.5.0",
          "state": {
            "_view_name": "StyleView",
            "_model_name": "DescriptionStyleModel",
            "description_width": "",
            "_view_module": "@jupyter-widgets/base",
            "_model_module_version": "1.5.0",
            "_view_count": null,
            "_view_module_version": "1.2.0",
            "_model_module": "@jupyter-widgets/controls"
          }
        },
        "a2b541b15a5b4d178f1d4f05e510e264": {
          "model_module": "@jupyter-widgets/base",
          "model_name": "LayoutModel",
          "model_module_version": "1.2.0",
          "state": {
            "_view_name": "LayoutView",
            "grid_template_rows": null,
            "right": null,
            "justify_content": null,
            "_view_module": "@jupyter-widgets/base",
            "overflow": null,
            "_model_module_version": "1.2.0",
            "_view_count": null,
            "flex_flow": null,
            "width": null,
            "min_width": null,
            "border": null,
            "align_items": null,
            "bottom": null,
            "_model_module": "@jupyter-widgets/base",
            "top": null,
            "grid_column": null,
            "overflow_y": null,
            "overflow_x": null,
            "grid_auto_flow": null,
            "grid_area": null,
            "grid_template_columns": null,
            "flex": null,
            "_model_name": "LayoutModel",
            "justify_items": null,
            "grid_row": null,
            "max_height": null,
            "align_content": null,
            "visibility": null,
            "align_self": null,
            "height": null,
            "min_height": null,
            "padding": null,
            "grid_auto_rows": null,
            "grid_gap": null,
            "max_width": null,
            "order": null,
            "_view_module_version": "1.2.0",
            "grid_template_areas": null,
            "object_position": null,
            "object_fit": null,
            "grid_auto_columns": null,
            "margin": null,
            "display": null,
            "left": null
          }
        },
        "e38dea6f89764a5ebafab9de0856a395": {
          "model_module": "@jupyter-widgets/controls",
          "model_name": "HBoxModel",
          "model_module_version": "1.5.0",
          "state": {
            "_view_name": "HBoxView",
            "_dom_classes": [],
            "_model_name": "HBoxModel",
            "_view_module": "@jupyter-widgets/controls",
            "_model_module_version": "1.5.0",
            "_view_count": null,
            "_view_module_version": "1.5.0",
            "box_style": "",
            "layout": "IPY_MODEL_b15231a85c7d48668614c9be8091541c",
            "_model_module": "@jupyter-widgets/controls",
            "children": [
              "IPY_MODEL_873117c7f538445592e4e9033e7ac069",
              "IPY_MODEL_9cb23ed6a9604b599cb42dd630e33667",
              "IPY_MODEL_a1847f71c58b4761be7aed42dcc7dcbf"
            ]
          }
        },
        "b15231a85c7d48668614c9be8091541c": {
          "model_module": "@jupyter-widgets/base",
          "model_name": "LayoutModel",
          "model_module_version": "1.2.0",
          "state": {
            "_view_name": "LayoutView",
            "grid_template_rows": null,
            "right": null,
            "justify_content": null,
            "_view_module": "@jupyter-widgets/base",
            "overflow": null,
            "_model_module_version": "1.2.0",
            "_view_count": null,
            "flex_flow": null,
            "width": null,
            "min_width": null,
            "border": null,
            "align_items": null,
            "bottom": null,
            "_model_module": "@jupyter-widgets/base",
            "top": null,
            "grid_column": null,
            "overflow_y": null,
            "overflow_x": null,
            "grid_auto_flow": null,
            "grid_area": null,
            "grid_template_columns": null,
            "flex": null,
            "_model_name": "LayoutModel",
            "justify_items": null,
            "grid_row": null,
            "max_height": null,
            "align_content": null,
            "visibility": null,
            "align_self": null,
            "height": null,
            "min_height": null,
            "padding": null,
            "grid_auto_rows": null,
            "grid_gap": null,
            "max_width": null,
            "order": null,
            "_view_module_version": "1.2.0",
            "grid_template_areas": null,
            "object_position": null,
            "object_fit": null,
            "grid_auto_columns": null,
            "margin": null,
            "display": null,
            "left": null
          }
        },
        "873117c7f538445592e4e9033e7ac069": {
          "model_module": "@jupyter-widgets/controls",
          "model_name": "HTMLModel",
          "model_module_version": "1.5.0",
          "state": {
            "_view_name": "HTMLView",
            "style": "IPY_MODEL_c34411d3a8844d218e70e85a6eb45857",
            "_dom_classes": [],
            "description": "",
            "_model_name": "HTMLModel",
            "placeholder": "​",
            "_view_module": "@jupyter-widgets/controls",
            "_model_module_version": "1.5.0",
            "value": "100%",
            "_view_count": null,
            "_view_module_version": "1.5.0",
            "description_tooltip": null,
            "_model_module": "@jupyter-widgets/controls",
            "layout": "IPY_MODEL_e90ff0dc5172480895a6fcde143fbc84"
          }
        },
        "9cb23ed6a9604b599cb42dd630e33667": {
          "model_module": "@jupyter-widgets/controls",
          "model_name": "FloatProgressModel",
          "model_module_version": "1.5.0",
          "state": {
            "_view_name": "ProgressView",
            "style": "IPY_MODEL_f97859325e974abaaab80ccdddc8bc8a",
            "_dom_classes": [],
            "description": "",
            "_model_name": "FloatProgressModel",
            "bar_style": "success",
            "max": 4999,
            "_view_module": "@jupyter-widgets/controls",
            "_model_module_version": "1.5.0",
            "value": 4999,
            "_view_count": null,
            "_view_module_version": "1.5.0",
            "orientation": "horizontal",
            "min": 0,
            "description_tooltip": null,
            "_model_module": "@jupyter-widgets/controls",
            "layout": "IPY_MODEL_011f7a632c6b47cb8cd4e4a4054dc9be"
          }
        },
        "a1847f71c58b4761be7aed42dcc7dcbf": {
          "model_module": "@jupyter-widgets/controls",
          "model_name": "HTMLModel",
          "model_module_version": "1.5.0",
          "state": {
            "_view_name": "HTMLView",
            "style": "IPY_MODEL_5179a492bd554a73b994c823f0f8f425",
            "_dom_classes": [],
            "description": "",
            "_model_name": "HTMLModel",
            "placeholder": "​",
            "_view_module": "@jupyter-widgets/controls",
            "_model_module_version": "1.5.0",
            "value": "  : 4999/4999 [00:01&lt;00:00, 2969.61it/s]",
            "_view_count": null,
            "_view_module_version": "1.5.0",
            "description_tooltip": null,
            "_model_module": "@jupyter-widgets/controls",
            "layout": "IPY_MODEL_12c721fe1ae843d0921ec59723f78515"
          }
        },
        "c34411d3a8844d218e70e85a6eb45857": {
          "model_module": "@jupyter-widgets/controls",
          "model_name": "DescriptionStyleModel",
          "model_module_version": "1.5.0",
          "state": {
            "_view_name": "StyleView",
            "_model_name": "DescriptionStyleModel",
            "description_width": "",
            "_view_module": "@jupyter-widgets/base",
            "_model_module_version": "1.5.0",
            "_view_count": null,
            "_view_module_version": "1.2.0",
            "_model_module": "@jupyter-widgets/controls"
          }
        },
        "e90ff0dc5172480895a6fcde143fbc84": {
          "model_module": "@jupyter-widgets/base",
          "model_name": "LayoutModel",
          "model_module_version": "1.2.0",
          "state": {
            "_view_name": "LayoutView",
            "grid_template_rows": null,
            "right": null,
            "justify_content": null,
            "_view_module": "@jupyter-widgets/base",
            "overflow": null,
            "_model_module_version": "1.2.0",
            "_view_count": null,
            "flex_flow": null,
            "width": null,
            "min_width": null,
            "border": null,
            "align_items": null,
            "bottom": null,
            "_model_module": "@jupyter-widgets/base",
            "top": null,
            "grid_column": null,
            "overflow_y": null,
            "overflow_x": null,
            "grid_auto_flow": null,
            "grid_area": null,
            "grid_template_columns": null,
            "flex": null,
            "_model_name": "LayoutModel",
            "justify_items": null,
            "grid_row": null,
            "max_height": null,
            "align_content": null,
            "visibility": null,
            "align_self": null,
            "height": null,
            "min_height": null,
            "padding": null,
            "grid_auto_rows": null,
            "grid_gap": null,
            "max_width": null,
            "order": null,
            "_view_module_version": "1.2.0",
            "grid_template_areas": null,
            "object_position": null,
            "object_fit": null,
            "grid_auto_columns": null,
            "margin": null,
            "display": null,
            "left": null
          }
        },
        "f97859325e974abaaab80ccdddc8bc8a": {
          "model_module": "@jupyter-widgets/controls",
          "model_name": "ProgressStyleModel",
          "model_module_version": "1.5.0",
          "state": {
            "_view_name": "StyleView",
            "_model_name": "ProgressStyleModel",
            "description_width": "",
            "_view_module": "@jupyter-widgets/base",
            "_model_module_version": "1.5.0",
            "_view_count": null,
            "_view_module_version": "1.2.0",
            "bar_color": null,
            "_model_module": "@jupyter-widgets/controls"
          }
        },
        "011f7a632c6b47cb8cd4e4a4054dc9be": {
          "model_module": "@jupyter-widgets/base",
          "model_name": "LayoutModel",
          "model_module_version": "1.2.0",
          "state": {
            "_view_name": "LayoutView",
            "grid_template_rows": null,
            "right": null,
            "justify_content": null,
            "_view_module": "@jupyter-widgets/base",
            "overflow": null,
            "_model_module_version": "1.2.0",
            "_view_count": null,
            "flex_flow": null,
            "width": null,
            "min_width": null,
            "border": null,
            "align_items": null,
            "bottom": null,
            "_model_module": "@jupyter-widgets/base",
            "top": null,
            "grid_column": null,
            "overflow_y": null,
            "overflow_x": null,
            "grid_auto_flow": null,
            "grid_area": null,
            "grid_template_columns": null,
            "flex": null,
            "_model_name": "LayoutModel",
            "justify_items": null,
            "grid_row": null,
            "max_height": null,
            "align_content": null,
            "visibility": null,
            "align_self": null,
            "height": null,
            "min_height": null,
            "padding": null,
            "grid_auto_rows": null,
            "grid_gap": null,
            "max_width": null,
            "order": null,
            "_view_module_version": "1.2.0",
            "grid_template_areas": null,
            "object_position": null,
            "object_fit": null,
            "grid_auto_columns": null,
            "margin": null,
            "display": null,
            "left": null
          }
        },
        "5179a492bd554a73b994c823f0f8f425": {
          "model_module": "@jupyter-widgets/controls",
          "model_name": "DescriptionStyleModel",
          "model_module_version": "1.5.0",
          "state": {
            "_view_name": "StyleView",
            "_model_name": "DescriptionStyleModel",
            "description_width": "",
            "_view_module": "@jupyter-widgets/base",
            "_model_module_version": "1.5.0",
            "_view_count": null,
            "_view_module_version": "1.2.0",
            "_model_module": "@jupyter-widgets/controls"
          }
        },
        "12c721fe1ae843d0921ec59723f78515": {
          "model_module": "@jupyter-widgets/base",
          "model_name": "LayoutModel",
          "model_module_version": "1.2.0",
          "state": {
            "_view_name": "LayoutView",
            "grid_template_rows": null,
            "right": null,
            "justify_content": null,
            "_view_module": "@jupyter-widgets/base",
            "overflow": null,
            "_model_module_version": "1.2.0",
            "_view_count": null,
            "flex_flow": null,
            "width": null,
            "min_width": null,
            "border": null,
            "align_items": null,
            "bottom": null,
            "_model_module": "@jupyter-widgets/base",
            "top": null,
            "grid_column": null,
            "overflow_y": null,
            "overflow_x": null,
            "grid_auto_flow": null,
            "grid_area": null,
            "grid_template_columns": null,
            "flex": null,
            "_model_name": "LayoutModel",
            "justify_items": null,
            "grid_row": null,
            "max_height": null,
            "align_content": null,
            "visibility": null,
            "align_self": null,
            "height": null,
            "min_height": null,
            "padding": null,
            "grid_auto_rows": null,
            "grid_gap": null,
            "max_width": null,
            "order": null,
            "_view_module_version": "1.2.0",
            "grid_template_areas": null,
            "object_position": null,
            "object_fit": null,
            "grid_auto_columns": null,
            "margin": null,
            "display": null,
            "left": null
          }
        }
      }
    }
  },
  "cells": [
    {
      "cell_type": "markdown",
      "metadata": {
        "id": "PFCiye-QHjgs"
      },
      "source": [
        "Installing HyPyP with pip "
      ]
    },
    {
      "cell_type": "code",
      "metadata": {
        "id": "KThF12opHfNi",
        "colab": {
          "base_uri": "https://localhost:8080/",
          "height": 1000
        },
        "outputId": "9c983087-84c5-4147-dd52-f83aba31bea2"
      },
      "source": [
        "!pip install hypyp"
      ],
      "execution_count": 2,
      "outputs": [
        {
          "output_type": "stream",
          "name": "stdout",
          "text": [
            "Collecting hypyp\n",
            "  Downloading hypyp-0.3.0b3-py3-none-any.whl (48 kB)\n",
            "\u001b[K     |████████████████████████████████| 48 kB 4.4 MB/s \n",
            "\u001b[?25hCollecting Pillow>=8.1.1\n",
            "  Downloading Pillow-8.4.0-cp37-cp37m-manylinux_2_17_x86_64.manylinux2014_x86_64.whl (3.1 MB)\n",
            "\u001b[K     |████████████████████████████████| 3.1 MB 29.3 MB/s \n",
            "\u001b[?25hRequirement already satisfied: pandas<2.0.0,>=1.0.3 in /usr/local/lib/python3.7/dist-packages (from hypyp) (1.1.5)\n",
            "Collecting meshio<5.0.0,>=4.0.13\n",
            "  Downloading meshio-4.4.6-py3-none-any.whl (158 kB)\n",
            "\u001b[K     |████████████████████████████████| 158 kB 71.5 MB/s \n",
            "\u001b[?25hRequirement already satisfied: bleach>=3.3.0 in /usr/local/lib/python3.7/dist-packages (from hypyp) (4.1.0)\n",
            "Collecting joblib<0.15.0,>=0.14.1\n",
            "  Downloading joblib-0.14.1-py2.py3-none-any.whl (294 kB)\n",
            "\u001b[K     |████████████████████████████████| 294 kB 54.7 MB/s \n",
            "\u001b[?25hCollecting autoreject<0.3.0,>=0.2.1\n",
            "  Downloading autoreject-0.2.2-py3-none-any.whl (24 kB)\n",
            "Requirement already satisfied: scipy<2.0.0,>=1.4.1 in /usr/local/lib/python3.7/dist-packages (from hypyp) (1.4.1)\n",
            "Requirement already satisfied: numpy<2.0.0,>=1.18.3 in /usr/local/lib/python3.7/dist-packages (from hypyp) (1.19.5)\n",
            "Collecting urllib3>=1.26.4\n",
            "  Downloading urllib3-1.26.7-py2.py3-none-any.whl (138 kB)\n",
            "\u001b[K     |████████████████████████████████| 138 kB 59.1 MB/s \n",
            "\u001b[?25hRequirement already satisfied: jinja2>=2.11.3 in /usr/local/lib/python3.7/dist-packages (from hypyp) (2.11.3)\n",
            "Collecting statsmodels<0.13.0,>=0.12.2\n",
            "  Downloading statsmodels-0.12.2-cp37-cp37m-manylinux1_x86_64.whl (9.5 MB)\n",
            "\u001b[K     |████████████████████████████████| 9.5 MB 49.3 MB/s \n",
            "\u001b[?25hCollecting pyyaml>=5.4\n",
            "  Downloading PyYAML-6.0-cp37-cp37m-manylinux_2_5_x86_64.manylinux1_x86_64.manylinux_2_12_x86_64.manylinux2010_x86_64.whl (596 kB)\n",
            "\u001b[K     |████████████████████████████████| 596 kB 42.0 MB/s \n",
            "\u001b[?25hRequirement already satisfied: Pygments>=2.7.4 in /usr/local/lib/python3.7/dist-packages (from hypyp) (2.7.4)\n",
            "Requirement already satisfied: matplotlib<4.0.0,>=3.2.1 in /usr/local/lib/python3.7/dist-packages (from hypyp) (3.2.2)\n",
            "Collecting pyqt5<6.0.0,>=5.15.0\n",
            "  Downloading PyQt5-5.15.5-cp36-abi3-manylinux1_x86_64.whl (8.3 MB)\n",
            "\u001b[K     |████████████████████████████████| 8.3 MB 18.5 MB/s \n",
            "\u001b[?25hCollecting scikit-learn==1.0\n",
            "  Downloading scikit_learn-1.0-cp37-cp37m-manylinux_2_12_x86_64.manylinux2010_x86_64.whl (23.1 MB)\n",
            "\u001b[K     |████████████████████████████████| 23.1 MB 1.4 MB/s \n",
            "\u001b[?25hRequirement already satisfied: astropy<5.0.0,>=4.0.1 in /usr/local/lib/python3.7/dist-packages (from hypyp) (4.3.1)\n",
            "Collecting mne<0.22.0,>=0.21.1\n",
            "  Downloading mne-0.21.2-py3-none-any.whl (6.8 MB)\n",
            "\u001b[K     |████████████████████████████████| 6.8 MB 24.4 MB/s \n",
            "\u001b[?25hRequirement already satisfied: tqdm<5.0.0,>=4.46.0 in /usr/local/lib/python3.7/dist-packages (from hypyp) (4.62.3)\n",
            "Collecting threadpoolctl>=2.0.0\n",
            "  Downloading threadpoolctl-3.0.0-py3-none-any.whl (14 kB)\n",
            "Requirement already satisfied: importlib-metadata in /usr/local/lib/python3.7/dist-packages (from astropy<5.0.0,>=4.0.1->hypyp) (4.8.1)\n",
            "Requirement already satisfied: pyerfa>=1.7.3 in /usr/local/lib/python3.7/dist-packages (from astropy<5.0.0,>=4.0.1->hypyp) (2.0.0)\n",
            "Requirement already satisfied: six>=1.9.0 in /usr/local/lib/python3.7/dist-packages (from bleach>=3.3.0->hypyp) (1.15.0)\n",
            "Requirement already satisfied: webencodings in /usr/local/lib/python3.7/dist-packages (from bleach>=3.3.0->hypyp) (0.5.1)\n",
            "Requirement already satisfied: packaging in /usr/local/lib/python3.7/dist-packages (from bleach>=3.3.0->hypyp) (21.0)\n",
            "Requirement already satisfied: MarkupSafe>=0.23 in /usr/local/lib/python3.7/dist-packages (from jinja2>=2.11.3->hypyp) (2.0.1)\n",
            "Requirement already satisfied: cycler>=0.10 in /usr/local/lib/python3.7/dist-packages (from matplotlib<4.0.0,>=3.2.1->hypyp) (0.10.0)\n",
            "Requirement already satisfied: kiwisolver>=1.0.1 in /usr/local/lib/python3.7/dist-packages (from matplotlib<4.0.0,>=3.2.1->hypyp) (1.3.2)\n",
            "Requirement already satisfied: pyparsing!=2.0.4,!=2.1.2,!=2.1.6,>=2.0.1 in /usr/local/lib/python3.7/dist-packages (from matplotlib<4.0.0,>=3.2.1->hypyp) (2.4.7)\n",
            "Requirement already satisfied: python-dateutil>=2.1 in /usr/local/lib/python3.7/dist-packages (from matplotlib<4.0.0,>=3.2.1->hypyp) (2.8.2)\n",
            "Requirement already satisfied: pytz>=2017.2 in /usr/local/lib/python3.7/dist-packages (from pandas<2.0.0,>=1.0.3->hypyp) (2018.9)\n",
            "Collecting PyQt5-sip<13,>=12.8\n",
            "  Downloading PyQt5_sip-12.9.0-cp37-cp37m-manylinux1_x86_64.whl (317 kB)\n",
            "\u001b[K     |████████████████████████████████| 317 kB 35.5 MB/s \n",
            "\u001b[?25hCollecting PyQt5-Qt5>=5.15.2\n",
            "  Downloading PyQt5_Qt5-5.15.2-py3-none-manylinux2014_x86_64.whl (59.9 MB)\n",
            "\u001b[K     |████████████████████████████████| 59.9 MB 76 kB/s \n",
            "\u001b[?25hRequirement already satisfied: patsy>=0.5 in /usr/local/lib/python3.7/dist-packages (from statsmodels<0.13.0,>=0.12.2->hypyp) (0.5.2)\n",
            "Requirement already satisfied: zipp>=0.5 in /usr/local/lib/python3.7/dist-packages (from importlib-metadata->astropy<5.0.0,>=4.0.1->hypyp) (3.6.0)\n",
            "Requirement already satisfied: typing-extensions>=3.6.4 in /usr/local/lib/python3.7/dist-packages (from importlib-metadata->astropy<5.0.0,>=4.0.1->hypyp) (3.7.4.3)\n",
            "Installing collected packages: threadpoolctl, PyQt5-sip, PyQt5-Qt5, joblib, urllib3, statsmodels, scikit-learn, pyyaml, pyqt5, Pillow, mne, meshio, autoreject, hypyp\n",
            "  Attempting uninstall: joblib\n",
            "    Found existing installation: joblib 1.0.1\n",
            "    Uninstalling joblib-1.0.1:\n",
            "      Successfully uninstalled joblib-1.0.1\n",
            "  Attempting uninstall: urllib3\n",
            "    Found existing installation: urllib3 1.24.3\n",
            "    Uninstalling urllib3-1.24.3:\n",
            "      Successfully uninstalled urllib3-1.24.3\n",
            "  Attempting uninstall: statsmodels\n",
            "    Found existing installation: statsmodels 0.10.2\n",
            "    Uninstalling statsmodels-0.10.2:\n",
            "      Successfully uninstalled statsmodels-0.10.2\n",
            "  Attempting uninstall: scikit-learn\n",
            "    Found existing installation: scikit-learn 0.22.2.post1\n",
            "    Uninstalling scikit-learn-0.22.2.post1:\n",
            "      Successfully uninstalled scikit-learn-0.22.2.post1\n",
            "  Attempting uninstall: pyyaml\n",
            "    Found existing installation: PyYAML 3.13\n",
            "    Uninstalling PyYAML-3.13:\n",
            "      Successfully uninstalled PyYAML-3.13\n",
            "  Attempting uninstall: Pillow\n",
            "    Found existing installation: Pillow 7.1.2\n",
            "    Uninstalling Pillow-7.1.2:\n",
            "      Successfully uninstalled Pillow-7.1.2\n",
            "\u001b[31mERROR: pip's dependency resolver does not currently take into account all the packages that are installed. This behaviour is the source of the following dependency conflicts.\n",
            "requests 2.23.0 requires urllib3!=1.25.0,!=1.25.1,<1.26,>=1.21.1, but you have urllib3 1.26.7 which is incompatible.\n",
            "datascience 0.10.6 requires folium==0.2.1, but you have folium 0.8.3 which is incompatible.\n",
            "albumentations 0.1.12 requires imgaug<0.2.7,>=0.2.5, but you have imgaug 0.2.9 which is incompatible.\u001b[0m\n",
            "Successfully installed Pillow-8.4.0 PyQt5-Qt5-5.15.2 PyQt5-sip-12.9.0 autoreject-0.2.2 hypyp-0.3.0b3 joblib-0.14.1 meshio-4.4.6 mne-0.21.2 pyqt5-5.15.5 pyyaml-6.0 scikit-learn-1.0 statsmodels-0.12.2 threadpoolctl-3.0.0 urllib3-1.26.7\n"
          ]
        },
        {
          "output_type": "display_data",
          "data": {
            "application/vnd.colab-display-data+json": {
              "pip_warning": {
                "packages": [
                  "PIL"
                ]
              }
            }
          },
          "metadata": {}
        }
      ]
    },
    {
      "cell_type": "markdown",
      "metadata": {
        "id": "vd6JDLQXNGWe"
      },
      "source": [
        "##Load useful libs"
      ]
    },
    {
      "cell_type": "markdown",
      "metadata": {
        "id": "3DCe44nlJN7Z"
      },
      "source": [
        "### Core"
      ]
    },
    {
      "cell_type": "code",
      "metadata": {
        "id": "ZScbG1EZP6_v",
        "colab": {
          "base_uri": "https://localhost:8080/"
        },
        "outputId": "04fe90f4-4973-4096-8308-57afba0a6463"
      },
      "source": [
        "import io\n",
        "from copy import copy\n",
        "from collections import OrderedDict\n",
        "import requests\n",
        "import mne\n",
        "import math"
      ],
      "execution_count": 1,
      "outputs": [
        {
          "output_type": "stream",
          "name": "stderr",
          "text": [
            "/usr/local/lib/python3.7/dist-packages/requests/__init__.py:91: RequestsDependencyWarning: urllib3 (1.26.7) or chardet (3.0.4) doesn't match a supported version!\n",
            "  RequestsDependencyWarning)\n"
          ]
        }
      ]
    },
    {
      "cell_type": "markdown",
      "metadata": {
        "id": "_IhZUKk6NSl5"
      },
      "source": [
        "### Data science"
      ]
    },
    {
      "cell_type": "code",
      "metadata": {
        "id": "BvjutLZwM93X"
      },
      "source": [
        "import numpy as np\n",
        "import scipy"
      ],
      "execution_count": 2,
      "outputs": []
    },
    {
      "cell_type": "markdown",
      "metadata": {
        "id": "pw3ZBwZeNWcC"
      },
      "source": [
        "### Visualization"
      ]
    },
    {
      "cell_type": "code",
      "metadata": {
        "id": "goQl1rejNbbx"
      },
      "source": [
        "import matplotlib.pyplot as plt\n",
        "from mpl_toolkits.mplot3d import Axes3D\n",
        "from hypyp.ext.mpl3d import glm\n",
        "from hypyp.ext.mpl3d.mesh import Mesh\n",
        "from hypyp.ext.mpl3d.camera import Camera"
      ],
      "execution_count": 3,
      "outputs": []
    },
    {
      "cell_type": "markdown",
      "metadata": {
        "id": "s8jkLPMCNgTP"
      },
      "source": [
        "### MNE"
      ]
    },
    {
      "cell_type": "code",
      "metadata": {
        "id": "gjsRBsxBNjI0"
      },
      "source": [
        "import mne"
      ],
      "execution_count": 4,
      "outputs": []
    },
    {
      "cell_type": "markdown",
      "metadata": {
        "id": "mNsvQhwVNmv6"
      },
      "source": [
        "### HyPyP"
      ]
    },
    {
      "cell_type": "code",
      "metadata": {
        "id": "N9IWKiKkNq-3"
      },
      "source": [
        "from hypyp import prep \n",
        "from hypyp import analyses\n",
        "from hypyp import stats\n",
        "from hypyp import viz"
      ],
      "execution_count": 5,
      "outputs": []
    },
    {
      "cell_type": "markdown",
      "metadata": {
        "id": "lBT-TrxvNtas"
      },
      "source": [
        "### Setting parameters\n",
        "Frequency bands used in the study"
      ]
    },
    {
      "cell_type": "code",
      "metadata": {
        "id": "fnES_XPON1aP"
      },
      "source": [
        "freq_bands = {'Theta': [4, 7],\n",
        "              'Alpha-Low': [7.5, 11],\n",
        "              'Alpha-High': [11.5, 13],\n",
        "              'Beta': [13.5, 29.5],\n",
        "              'Gamma': [30, 48]}"
      ],
      "execution_count": 6,
      "outputs": []
    },
    {
      "cell_type": "markdown",
      "metadata": {
        "id": "bpoyay3HN4Rx"
      },
      "source": [
        "Keep the order of frequency bands in the dictionary"
      ]
    },
    {
      "cell_type": "code",
      "metadata": {
        "id": "7EVJjLC7N6n_"
      },
      "source": [
        "freq_bands = OrderedDict(freq_bands)"
      ],
      "execution_count": 7,
      "outputs": []
    },
    {
      "cell_type": "markdown",
      "metadata": {
        "id": "DP7Mf574N9-5"
      },
      "source": [
        "### Load data\n",
        "Loading datasets\n",
        "\n",
        "For each participant, both .set file and .fdt files should be in the same directory.\n",
        "\n",
        "In this notebook, we use data that is preprocessed in EEGlab: data should be epoched and corrected by an ICA algorithm.\n",
        "\n",
        "Note: it is not necessary that participants have the same number of epochs, but they must have same number of samples per epoch "
      ]
    },
    {
      "cell_type": "code",
      "metadata": {
        "colab": {
          "base_uri": "https://localhost:8080/"
        },
        "id": "iZw6rusMvuS4",
        "outputId": "ad8b8901-89e0-447b-b639-1752d41eb5dc"
      },
      "source": [
        "!pip install wget"
      ],
      "execution_count": 124,
      "outputs": [
        {
          "output_type": "stream",
          "name": "stdout",
          "text": [
            "Requirement already satisfied: wget in /usr/local/lib/python3.7/dist-packages (3.2)\n"
          ]
        }
      ]
    },
    {
      "cell_type": "code",
      "metadata": {
        "id": "dAllASCSutSG"
      },
      "source": [
        "import os\n",
        "\n",
        "directory = \"EEGLAB\"\n",
        "  \n",
        "# Parent Directory path\n",
        "parent_dir = \"C:/Users/win_10\"\n",
        "  \n",
        "# Path\n",
        "path = os.path.join(parent_dir, directory)\n",
        "  \n",
        "\n",
        "os.mkdir(path)"
      ],
      "execution_count": null,
      "outputs": []
    },
    {
      "cell_type": "code",
      "metadata": {
        "id": "6FtcwGiNu1I7"
      },
      "source": [
        "import wget\n",
        "\n",
        "print('Beginning file download with wget module')\n",
        "\n",
        "url_1 = \"https://github.com/ghazalehran/HyPyP/blob/master/data/EEGLAB/eeglab_data_epochs_ica.set\"\n",
        "\n",
        "wget.download(url_1,path )\n",
        "\n",
        "url_2 = \"https://github.com/ghazalehran/HyPyP/blob/master/data/EEGLAB/eeglab_data_epochs_ica.fdt\"\n",
        "\n",
        "wget.download(url_2, path)"
      ],
      "execution_count": null,
      "outputs": []
    },
    {
      "cell_type": "code",
      "metadata": {
        "id": "pGvlSZRAOAw4"
      },
      "source": [
        "path_1 = \"EEGLAB/eeglab_data_epochs_ica.set\"\n",
        "\n",
        "path_2 = \"EEGLAB/eeglab_data_epochs_ica.set\"\n",
        "\n",
        "epo1 = mne.io.read_epochs_eeglab(\n",
        "    path_1\n",
        ")\n",
        "\n",
        "epo2 = mne.io.read_epochs_eeglab(\n",
        "    path_2\n",
        ")"
      ],
      "execution_count": null,
      "outputs": []
    },
    {
      "cell_type": "markdown",
      "metadata": {
        "id": "zXcXOLV2RkDu"
      },
      "source": [
        "We need to equalize the number of epochs between our two participants."
      ]
    },
    {
      "cell_type": "code",
      "metadata": {
        "colab": {
          "base_uri": "https://localhost:8080/"
        },
        "id": "IqTVagq0RYpf",
        "outputId": "ad84cd5e-c089-42eb-c73b-9c3eeca190a1"
      },
      "source": [
        "mne.epochs.equalize_epoch_counts([epo1, epo2])"
      ],
      "execution_count": 9,
      "outputs": [
        {
          "output_type": "stream",
          "name": "stdout",
          "text": [
            "Dropped 0 epochs: \n",
            "Dropped 0 epochs: \n"
          ]
        }
      ]
    },
    {
      "cell_type": "markdown",
      "metadata": {
        "id": "4J7kyFI9Rq9p"
      },
      "source": [
        "Specify sampling frequency"
      ]
    },
    {
      "cell_type": "code",
      "metadata": {
        "id": "XXHInhTfRuf7"
      },
      "source": [
        "sampling_rate = epo1.info['sfreq']"
      ],
      "execution_count": 10,
      "outputs": []
    },
    {
      "cell_type": "markdown",
      "metadata": {
        "id": "EalwZ5JDRxp9"
      },
      "source": [
        "Choosing sensors in international standard 10/20 system for using the MNE template and overwrite the EEGlab position.\n",
        "\n",
        "Note: EOG (Eyes) are removed for this analysis"
      ]
    },
    {
      "cell_type": "code",
      "metadata": {
        "id": "zI4In20LSBGt"
      },
      "source": [
        "StanSys = ['Nz', 'Fp1', 'Fpz', 'Fp2', 'F7', 'F9', 'PO3',\n",
        "                     'F3', 'Fz', 'F4', 'F8', 'T3', 'C3', 'CP3', 'PO4',\n",
        "                     'Cz', 'C4', 'T4', 'T5', 'P3', 'Pz', 'P3', 'PO7',\n",
        "                     'P4', 'T6', 'O1', 'Oz', 'O2', 'Iz', 'P1', 'PO8',\n",
        "                     'AF3', 'AF7', 'AF4', 'AF8', 'F6', 'F10', 'F2',  'F5', \n",
        "                     'FC1', 'FC3', 'FC5', 'FCz', 'FC2', 'FC4', 'FC6', 'F1',\n",
        "                     'FT9', 'FT7', 'FT8', 'FT10', 'C5', 'C6', 'CPz', 'CP1', \n",
        "                     'CP5', 'CP2', 'CP4', 'CP6', 'TP8', 'TP10', 'TP7', 'TP9', \n",
        "                     'P5', 'P7', 'P9', 'P2', 'P4', 'P6', 'P8', 'P10', 'POz']"
      ],
      "execution_count": 11,
      "outputs": []
    },
    {
      "cell_type": "code",
      "metadata": {
        "id": "_OzsfQJsiigq"
      },
      "source": [
        "low_StanSys = []\n",
        "for name in StanSys:\n",
        "  low_StanSys.append(name.lower())"
      ],
      "execution_count": 12,
      "outputs": []
    },
    {
      "cell_type": "code",
      "metadata": {
        "id": "gIzmAeFnVubk"
      },
      "source": [
        "names_epo1 = np.array([ch['ch_name'] for ch in epo1.info['chs']])\n",
        "names_epo2 = np.array([ch['ch_name'] for ch in epo2.info['chs']])"
      ],
      "execution_count": 13,
      "outputs": []
    },
    {
      "cell_type": "code",
      "metadata": {
        "id": "PZHNlNN5SSh-"
      },
      "source": [
        "epo_ref1 = epo1.copy()\n",
        "for idx in range(len(names_epo1)):\n",
        "  aux_name = names_epo1[idx].lower()\n",
        "  if aux_name in low_StanSys:\n",
        "    ind = low_StanSys.index(aux_name)\n",
        "    nw_ch = StanSys[ind]\n",
        "    #print(nw_ch)\n",
        "    #print(aux_name)\n",
        "    mne.rename_channels(epo_ref1.info, {names_epo1[idx]:nw_ch})\n",
        "  else:\n",
        "    #print(names_epo1[idx])\n",
        "    epo_ref1.drop_channels(names_epo1[idx]) \n"
      ],
      "execution_count": 26,
      "outputs": []
    },
    {
      "cell_type": "code",
      "metadata": {
        "id": "rZmQIPf6V1NQ"
      },
      "source": [
        "epo_ref2 = epo2.copy()\n",
        "for idx in range(len(names_epo2)):\n",
        "  aux_name = names_epo2[idx].lower()\n",
        "  if aux_name in low_StanSys:\n",
        "    ind = low_StanSys.index(aux_name)\n",
        "    nw_ch = StanSys[ind]\n",
        "    #print(nw_ch)\n",
        "    #print(aux_name)\n",
        "    mne.rename_channels(epo_ref2.info, {names_epo2[idx]:nw_ch})\n",
        "  else:\n",
        "    #print(names_epo1[idx])\n",
        "    epo_ref2.drop_channels(names_epo2[idx]) "
      ],
      "execution_count": 31,
      "outputs": []
    },
    {
      "cell_type": "code",
      "metadata": {
        "id": "_fOaIs5b6k15"
      },
      "source": [
        "locations = mne.channels.make_standard_montage('standard_1020', head_size=0.092)"
      ],
      "execution_count": 63,
      "outputs": []
    },
    {
      "cell_type": "code",
      "metadata": {
        "id": "-8NbjySYGqcW"
      },
      "source": [
        "c = locations._get_ch_pos()"
      ],
      "execution_count": 64,
      "outputs": []
    },
    {
      "cell_type": "code",
      "metadata": {
        "colab": {
          "base_uri": "https://localhost:8080/"
        },
        "id": "QNSSF5cUNk7r",
        "outputId": "a0374771-33aa-48df-f6e2-b7709adf89f7"
      },
      "source": [
        "epo_ref2.set_montage(locations)"
      ],
      "execution_count": 65,
      "outputs": [
        {
          "output_type": "execute_result",
          "data": {
            "text/plain": [
              "<EpochsEEGLAB |  80 events (all good), -1 - 1.99219 sec, baseline off, ~6.6 MB, data loaded,\n",
              " 'square': 5\n",
              " 'square/rt': 73\n",
              " 'square/square/rt': 2>"
            ]
          },
          "metadata": {},
          "execution_count": 65
        }
      ]
    },
    {
      "cell_type": "code",
      "metadata": {
        "colab": {
          "base_uri": "https://localhost:8080/"
        },
        "id": "1fbHjgfgRQTk",
        "outputId": "71204cec-e815-48d2-d7fc-6956cd401c5c"
      },
      "source": [
        "epo_ref1.set_montage(locations)"
      ],
      "execution_count": 60,
      "outputs": [
        {
          "output_type": "execute_result",
          "data": {
            "text/plain": [
              "<EpochsEEGLAB |  80 events (all good), -1 - 1.99219 sec, baseline off, ~6.6 MB, data loaded,\n",
              " 'square': 5\n",
              " 'square/rt': 73\n",
              " 'square/square/rt': 2>"
            ]
          },
          "metadata": {},
          "execution_count": 60
        }
      ]
    },
    {
      "cell_type": "markdown",
      "metadata": {
        "id": "wTS25hLR2Klg"
      },
      "source": [
        "## Analysing data\n",
        "### Welch Power Spectral Density\n",
        "Here for ex, the frequency-band-of-interest is restricted to Alpha_Low, frequencies for which power spectral density is actually computed are returned in freq_list, and PSD values are averaged across epochs"
      ]
    },
    {
      "cell_type": "code",
      "metadata": {
        "id": "UDvFGIgx2o8f"
      },
      "source": [
        "epo4 = epo_ref1[0:40]\n",
        "epo5 = epo_ref2[40:80]"
      ],
      "execution_count": 36,
      "outputs": []
    },
    {
      "cell_type": "code",
      "metadata": {
        "colab": {
          "base_uri": "https://localhost:8080/"
        },
        "id": "kO6Nf-zAamnF",
        "outputId": "128a79c8-5c9d-414d-c6fd-4c74331a92c4"
      },
      "source": [
        "psd1 = analyses.pow(epo4, fmin=7.5, fmax=11,\n",
        "                    n_fft=1000, n_per_seg=1000, epochs_average=True)\n",
        "psd2 = analyses.pow(epo5, fmin=7.5, fmax=11,\n",
        "                    n_fft=1000, n_per_seg=1000, epochs_average=True)\n",
        "data_psd = np.array([psd1.psd, psd2.psd])"
      ],
      "execution_count": 38,
      "outputs": [
        {
          "output_type": "stream",
          "name": "stdout",
          "text": [
            "Effective window size : 7.812 (s)\n",
            "Effective window size : 7.812 (s)\n"
          ]
        }
      ]
    },
    {
      "cell_type": "markdown",
      "metadata": {
        "id": "um8cC2jeaz6-"
      },
      "source": [
        "### Connectivity\n",
        "Initializing data and storage"
      ]
    },
    {
      "cell_type": "code",
      "metadata": {
        "id": "pj2w6_eOa2-s"
      },
      "source": [
        "data_inter = np.array([epo4, epo5])\n",
        "result_intra = []"
      ],
      "execution_count": 39,
      "outputs": []
    },
    {
      "cell_type": "markdown",
      "metadata": {
        "id": "EMnCW_-bbB_b"
      },
      "source": [
        "Computing analytic signal per frequency band"
      ]
    },
    {
      "cell_type": "code",
      "metadata": {
        "id": "B0mCzZ3LbC39"
      },
      "source": [
        "complex_signal = analyses.compute_freq_bands(data_inter, sampling_rate,\n",
        "                                             freq_bands)"
      ],
      "execution_count": 40,
      "outputs": []
    },
    {
      "cell_type": "markdown",
      "metadata": {
        "id": "PGprLcYRbQ_T"
      },
      "source": [
        "Computing frequency- and time-frequency-domain connectivity, 'ccorr' for example"
      ]
    },
    {
      "cell_type": "code",
      "metadata": {
        "id": "VqFKE4q9bRtc"
      },
      "source": [
        "result = analyses.compute_sync(complex_signal, mode='ccorr')"
      ],
      "execution_count": 41,
      "outputs": []
    },
    {
      "cell_type": "markdown",
      "metadata": {
        "id": "d-TCCbcvbYLI"
      },
      "source": [
        "Slicing results to get the Inter-brain part of the matrix"
      ]
    },
    {
      "cell_type": "code",
      "metadata": {
        "id": "5wn70ywMbY7O"
      },
      "source": [
        "n_ch = len(epo4.info['ch_names'])\n",
        "theta, alpha_low, alpha_high, beta, gamma = result[:, 0:n_ch, n_ch:2*n_ch]"
      ],
      "execution_count": 42,
      "outputs": []
    },
    {
      "cell_type": "markdown",
      "metadata": {
        "id": "59o73KsdboZp"
      },
      "source": [
        "\n",
        "Choosing Alpha_Low for futher analyses for example"
      ]
    },
    {
      "cell_type": "code",
      "metadata": {
        "id": "jHZVw0sibpJO"
      },
      "source": [
        "values = alpha_low\n",
        "values -= np.diag(np.diag(values))"
      ],
      "execution_count": 43,
      "outputs": []
    },
    {
      "cell_type": "markdown",
      "metadata": {
        "id": "9J_cdMa3buRL"
      },
      "source": [
        "Computing Cohens'D for further analyses for example"
      ]
    },
    {
      "cell_type": "code",
      "metadata": {
        "id": "-JI1exnibvCL"
      },
      "source": [
        "C = (values - np.mean(values[:])) / np.std(values[:])"
      ],
      "execution_count": 44,
      "outputs": []
    },
    {
      "cell_type": "markdown",
      "metadata": {
        "id": "HqWHHhpUb0Cb"
      },
      "source": [
        "Slicing results to get the Intra-brain part of the matrix"
      ]
    },
    {
      "cell_type": "code",
      "metadata": {
        "id": "iJ4w9IDBb0yF"
      },
      "source": [
        "for i in [0, 1]:\n",
        "    theta, alpha_low, alpha_high, beta, gamma = result[:, i:i+n_ch, i:i+n_ch]\n",
        "    # choosing Alpha_Low for futher analyses for example\n",
        "    values_intra = alpha_low\n",
        "    values_intra -= np.diag(np.diag(values_intra))\n",
        "    # computing Cohens'D for further analyses for example\n",
        "    C_intra = (values_intra -\n",
        "               np.mean(values_intra[:])) / np.std(values_intra[:])\n",
        "    # can also sample CSD values directly for statistical analyses\n",
        "    result_intra.append(C_intra)"
      ],
      "execution_count": 45,
      "outputs": []
    },
    {
      "cell_type": "markdown",
      "metadata": {
        "id": "ZGv9EIuSb7hA"
      },
      "source": [
        "## Statistical analyses\n",
        "### Comparing PSD values to random signal\n",
        "Parametric t test"
      ]
    },
    {
      "cell_type": "markdown",
      "metadata": {
        "id": "SA9VAxLacJs1"
      },
      "source": [
        "####1/ MNE test without any correction\n",
        "This function takes samples (observations) by number of tests (variables i.e. channels), thus PSD values are averaged in the frequency dimension\n"
      ]
    },
    {
      "cell_type": "code",
      "metadata": {
        "colab": {
          "base_uri": "https://localhost:8080/"
        },
        "id": "FcBOjaDkb8dx",
        "outputId": "62fcbe08-c21a-4ff2-85f5-65a97a405a23"
      },
      "source": [
        "psd1_mean = np.mean(psd1.psd, axis=1)\n",
        "psd2_mean = np.mean(psd2.psd, axis=1)\n",
        "X = np.array([psd1_mean, psd2_mean])\n",
        "T_obs, p_values, H0 = mne.stats.permutation_t_test(X=X, n_permutations=5000,\n",
        "                                                   tail=0, n_jobs=1)"
      ],
      "execution_count": 46,
      "outputs": [
        {
          "output_type": "stream",
          "name": "stdout",
          "text": [
            "Permuting 1 times (exact test)...\n"
          ]
        }
      ]
    },
    {
      "cell_type": "code",
      "metadata": {
        "colab": {
          "base_uri": "https://localhost:8080/"
        },
        "id": "I9g_YAUacORt",
        "outputId": "4254751f-11ba-41a0-ed15-695e803c31a2"
      },
      "source": [
        "statsCondTuple = stats.statsCond(data=data_psd,\n",
        "                                 epochs=epo4,\n",
        "                                 n_permutations=5000,\n",
        "                                 alpha=0.05)"
      ],
      "execution_count": 47,
      "outputs": [
        {
          "output_type": "stream",
          "name": "stdout",
          "text": [
            "Permuting 1 times (exact test)...\n"
          ]
        }
      ]
    },
    {
      "cell_type": "markdown",
      "metadata": {
        "id": "QwFRCmRpcXZW"
      },
      "source": [
        "####3/ Non-parametric cluster-based permutations¶\n",
        "Creating matrix of a priori connectivity between channels across space and frequencies based on their position, in the Alpha_Low band for example"
      ]
    },
    {
      "cell_type": "code",
      "metadata": {
        "colab": {
          "base_uri": "https://localhost:8080/"
        },
        "id": "jSunB_tTcUqh",
        "outputId": "ba79efbf-c6f3-47e9-9549-46a74f2e7bb6"
      },
      "source": [
        "con_matrixTuple = stats.con_matrix(epo4, freqs_mean=psd1.freq_list)\n",
        "ch_con_freq = con_matrixTuple.ch_con_freq"
      ],
      "execution_count": 48,
      "outputs": [
        {
          "output_type": "stream",
          "name": "stdout",
          "text": [
            "Could not find a adjacency matrix for the data. Computing adjacency based on Delaunay triangulations.\n",
            "-- number of adjacent vertices : 28\n"
          ]
        }
      ]
    },
    {
      "cell_type": "markdown",
      "metadata": {
        "id": "3rzo1wNicm3t"
      },
      "source": [
        "Creating two fake groups with twice the 'participant1' and twice the 'participant1'"
      ]
    },
    {
      "cell_type": "code",
      "metadata": {
        "id": "Danm0F-GckKO",
        "colab": {
          "base_uri": "https://localhost:8080/",
          "height": 270,
          "referenced_widgets": [
            "212de1778faa423aad56a6c3ce411800",
            "f9313d4ea1414d80ab90dc659f52293e",
            "ff929eedcd6d43aeb47b7d0cc7452495",
            "7b46b65e0cc9477ab43bfaffd9cf6ae0",
            "58620e6ecc1d48479d24f60bba244e24",
            "ae9ca0dfed354428a81b240360179a56",
            "f0d5abce2ad74b5a920bd0386ebab6c3",
            "ff0b27855f7d41629724b2a26cfd5899",
            "798030beb9794d5f9e8d74ed99c2c994",
            "64c8cacbc9734fdbbecf4dde33bfe1f2",
            "90f161cb36194d0186413ba309db09ab"
          ]
        },
        "outputId": "5fc54e6e-06f9-4996-8e7e-7fdbd627a94d"
      },
      "source": [
        "data_group = [np.array([psd1.psd, psd1.psd]), np.array([psd2.psd, psd2.psd])]\n",
        "\n",
        "statscondCluster = stats.statscondCluster(data=data_group,\n",
        "                                          freqs_mean=psd1.freq_list,\n",
        "                                          ch_con_freq=scipy.sparse.bsr_matrix(ch_con_freq),\n",
        "                                          tail=0,\n",
        "                                          n_permutations=5000,\n",
        "                                          alpha=0.05)"
      ],
      "execution_count": 49,
      "outputs": [
        {
          "output_type": "stream",
          "name": "stdout",
          "text": [
            "Using a threshold of 18.512821\n",
            "stat_fun(H1): min=inf max=inf\n",
            "Running initial clustering\n"
          ]
        },
        {
          "output_type": "stream",
          "name": "stderr",
          "text": [
            "/usr/local/lib/python3.7/dist-packages/hypyp/stats.py:341: RuntimeWarning: Ignoring argument \"tail\", performing 1-tailed F-test\n",
            "  t_power=1, out_type='mask')\n",
            "/usr/local/lib/python3.7/dist-packages/mne/stats/parametric.py:180: RuntimeWarning: divide by zero encountered in true_divide\n",
            "  f = msb / msw\n"
          ]
        },
        {
          "output_type": "stream",
          "name": "stdout",
          "text": [
            "Found 1 clusters\n",
            "Permuting 4999 times...\n"
          ]
        },
        {
          "output_type": "display_data",
          "data": {
            "application/vnd.jupyter.widget-view+json": {
              "model_id": "212de1778faa423aad56a6c3ce411800",
              "version_minor": 0,
              "version_major": 2
            },
            "text/plain": [
              "  0%|          |  : 0/4999 [00:00<?,       ?it/s]"
            ]
          },
          "metadata": {}
        },
        {
          "output_type": "stream",
          "name": "stderr",
          "text": [
            "/usr/local/lib/python3.7/dist-packages/mne/stats/parametric.py:180: RuntimeWarning: divide by zero encountered in true_divide\n",
            "  f = msb / msw\n"
          ]
        },
        {
          "output_type": "stream",
          "name": "stdout",
          "text": [
            "Computing cluster p-values\n",
            "Done.\n"
          ]
        }
      ]
    },
    {
      "cell_type": "markdown",
      "metadata": {
        "id": "TeoslZDQcwtP"
      },
      "source": [
        "###Comparing Intra-brain connectivity values between participants¶\n",
        "With 3/ non-parametric cluster-based permutations creating matrix of a priori connectivity between channels across space and frequencies based on their position"
      ]
    },
    {
      "cell_type": "code",
      "metadata": {
        "id": "N1VfLOjzcxs2",
        "colab": {
          "base_uri": "https://localhost:8080/"
        },
        "outputId": "382c6af7-9337-4555-aca0-187e51198d4b"
      },
      "source": [
        "con_matrixTuple = stats.con_matrix(\n",
        "    epochs=epo4, freqs_mean=np.arange(7.5, 11), draw=False)"
      ],
      "execution_count": 50,
      "outputs": [
        {
          "output_type": "stream",
          "name": "stdout",
          "text": [
            "Could not find a adjacency matrix for the data. Computing adjacency based on Delaunay triangulations.\n",
            "-- number of adjacent vertices : 28\n"
          ]
        }
      ]
    },
    {
      "cell_type": "markdown",
      "metadata": {
        "id": "n2vMjFw-c9Bf"
      },
      "source": [
        "Note that for connectivity, values are computed for every integer in the frequency bin from fmin to fmax, freqs_mean=np.arange(fmin, fmax) whereas in PSD it depends on the n_fft parameter psd.freq_list\n",
        "\n",
        "For CSD, values are averaged across each frequencies so you do not need to take frequency into account to correct clusters"
      ]
    },
    {
      "cell_type": "code",
      "metadata": {
        "id": "MPy70Pv1c4ah"
      },
      "source": [
        "ch_con = con_matrixTuple.ch_con"
      ],
      "execution_count": 51,
      "outputs": []
    },
    {
      "cell_type": "markdown",
      "metadata": {
        "id": "3WFpvN6XdF3b"
      },
      "source": [
        "Create again two fake groups with twice the 'participant1' and twice the 'participant2'\n",
        "\n",
        "In Alpha_Low band for example (see above):"
      ]
    },
    {
      "cell_type": "code",
      "metadata": {
        "id": "5_YsU2npdG9C",
        "colab": {
          "base_uri": "https://localhost:8080/",
          "height": 270,
          "referenced_widgets": [
            "acd680bc7e19412dbc01a9d7b1500265",
            "180cf1a8f89c4c9a8ddaa75fc178c45b",
            "5011c651f480441781ef81e2c4101953",
            "87dd376d662548c7a7c15a2610696f10",
            "dd424613657c48c18928a4c1c46a3018",
            "7ae0f7f20025476aaaa2cc2122b6ae7d",
            "912457693f994028b3d476fd8aa65316",
            "c7bf542901eb4371930b8ff86aa27080",
            "1dd4f4907ee04c96a9cd18e1b608c4db",
            "3c8b92892f944abfbdf33e01ef884ac1",
            "a2b541b15a5b4d178f1d4f05e510e264"
          ]
        },
        "outputId": "f75f0631-49ae-4c75-c8c8-be1d3bea203d"
      },
      "source": [
        "Alpha_Low = [np.array([result_intra[0], result_intra[0]]),\n",
        "             np.array([result_intra[1], result_intra[1]])]\n",
        "\n",
        "statscondCluster_intra = stats.statscondCluster(data=Alpha_Low,\n",
        "                                                freqs_mean=np.arange(7.5, 11),\n",
        "                                                ch_con_freq=scipy.sparse.bsr_matrix(ch_con),\n",
        "                                                tail=0,\n",
        "                                                n_permutations=5000,\n",
        "                                                alpha=0.05)"
      ],
      "execution_count": 52,
      "outputs": [
        {
          "output_type": "stream",
          "name": "stdout",
          "text": [
            "Using a threshold of 18.512821\n",
            "stat_fun(H1): min=inf max=inf\n",
            "Running initial clustering\n"
          ]
        },
        {
          "output_type": "stream",
          "name": "stderr",
          "text": [
            "/usr/local/lib/python3.7/dist-packages/hypyp/stats.py:341: RuntimeWarning: Ignoring argument \"tail\", performing 1-tailed F-test\n",
            "  t_power=1, out_type='mask')\n",
            "/usr/local/lib/python3.7/dist-packages/mne/stats/parametric.py:180: RuntimeWarning: divide by zero encountered in true_divide\n",
            "  f = msb / msw\n"
          ]
        },
        {
          "output_type": "stream",
          "name": "stdout",
          "text": [
            "Found 1 clusters\n",
            "Permuting 4999 times...\n"
          ]
        },
        {
          "output_type": "display_data",
          "data": {
            "application/vnd.jupyter.widget-view+json": {
              "model_id": "acd680bc7e19412dbc01a9d7b1500265",
              "version_minor": 0,
              "version_major": 2
            },
            "text/plain": [
              "  0%|          |  : 0/4999 [00:00<?,       ?it/s]"
            ]
          },
          "metadata": {}
        },
        {
          "output_type": "stream",
          "name": "stderr",
          "text": [
            "/usr/local/lib/python3.7/dist-packages/mne/stats/parametric.py:180: RuntimeWarning: divide by zero encountered in true_divide\n",
            "  f = msb / msw\n"
          ]
        },
        {
          "output_type": "stream",
          "name": "stdout",
          "text": [
            "Computing cluster p-values\n",
            "Done.\n"
          ]
        }
      ]
    },
    {
      "cell_type": "markdown",
      "metadata": {
        "id": "pmLRRhuNdLvM"
      },
      "source": [
        "###Comparing Inter-brain connectivity values to random signal¶\n",
        "No a priori connectivity between channels is considered between the two participants\n",
        "\n",
        "In Alpha_Low band for example (see above), create another time two fake groups with twice the 'participant1' and twice the 'participant2'"
      ]
    },
    {
      "cell_type": "code",
      "metadata": {
        "id": "tNiICWtWdPbA",
        "colab": {
          "base_uri": "https://localhost:8080/",
          "height": 236,
          "referenced_widgets": [
            "e38dea6f89764a5ebafab9de0856a395",
            "b15231a85c7d48668614c9be8091541c",
            "873117c7f538445592e4e9033e7ac069",
            "9cb23ed6a9604b599cb42dd630e33667",
            "a1847f71c58b4761be7aed42dcc7dcbf",
            "c34411d3a8844d218e70e85a6eb45857",
            "e90ff0dc5172480895a6fcde143fbc84",
            "f97859325e974abaaab80ccdddc8bc8a",
            "011f7a632c6b47cb8cd4e4a4054dc9be",
            "5179a492bd554a73b994c823f0f8f425",
            "12c721fe1ae843d0921ec59723f78515"
          ]
        },
        "outputId": "30bd4529-a38e-473a-d70d-a329bf428e2e"
      },
      "source": [
        "data = [np.array([values, values]), np.array([result_intra[0], result_intra[0]])]\n",
        "\n",
        "statscondCluster = stats.statscondCluster(data=data,\n",
        "                                          freqs_mean=np.arange(7.5, 11),\n",
        "                                          ch_con_freq=None,\n",
        "                                          tail=0,\n",
        "                                          n_permutations=5000,\n",
        "                                          alpha=0.05)"
      ],
      "execution_count": 53,
      "outputs": [
        {
          "output_type": "stream",
          "name": "stdout",
          "text": [
            "Using a threshold of 18.512821\n",
            "stat_fun(H1): min=inf max=inf\n",
            "Running initial clustering\n",
            "Found 1 clusters\n",
            "Permuting 4999 times...\n"
          ]
        },
        {
          "output_type": "stream",
          "name": "stderr",
          "text": [
            "/usr/local/lib/python3.7/dist-packages/hypyp/stats.py:341: RuntimeWarning: Ignoring argument \"tail\", performing 1-tailed F-test\n",
            "  t_power=1, out_type='mask')\n",
            "/usr/local/lib/python3.7/dist-packages/mne/stats/parametric.py:180: RuntimeWarning: divide by zero encountered in true_divide\n",
            "  f = msb / msw\n"
          ]
        },
        {
          "output_type": "display_data",
          "data": {
            "application/vnd.jupyter.widget-view+json": {
              "model_id": "e38dea6f89764a5ebafab9de0856a395",
              "version_minor": 0,
              "version_major": 2
            },
            "text/plain": [
              "  0%|          |  : 0/4999 [00:00<?,       ?it/s]"
            ]
          },
          "metadata": {}
        },
        {
          "output_type": "stream",
          "name": "stdout",
          "text": [
            "Computing cluster p-values\n",
            "Done.\n"
          ]
        }
      ]
    },
    {
      "cell_type": "code",
      "metadata": {
        "id": "_H7WNfNxDqZA"
      },
      "source": [
        "viz.plot_significant_sensors(\n",
        "    T_obs_plot=statsCondTuple.T_obs, epochs=epo4)"
      ],
      "execution_count": 54,
      "outputs": []
    },
    {
      "cell_type": "code",
      "metadata": {
        "colab": {
          "base_uri": "https://localhost:8080/",
          "height": 268
        },
        "id": "Tjp-pSOOEi-n",
        "outputId": "24fb8355-41c3-4bcb-e5a0-c5979617ad23"
      },
      "source": [
        "viz.plot_significant_sensors(\n",
        "    T_obs_plot=statsCondTuple.T_obs_plot, epochs=epo5)"
      ],
      "execution_count": 55,
      "outputs": [
        {
          "output_type": "display_data",
          "data": {
            "image/png": "[encoded data removed]",
            "text/plain": [
              "<Figure size 432x288 with 1 Axes>"
            ]
          },
          "metadata": {}
        }
      ]
    },
    {
      "cell_type": "code",
      "metadata": {
        "colab": {
          "base_uri": "https://localhost:8080/",
          "height": 216
        },
        "id": "StSJEHotE96t",
        "outputId": "67130146-b65a-4204-b423-5045797281f0"
      },
      "source": [
        "viz.viz_2D_topomap_inter(epo4, epo5, C, threshold='auto', steps=10, lab=True)"
      ],
      "execution_count": 66,
      "outputs": [
        {
          "output_type": "display_data",
          "data": {
            "image/png": "[encoded data removed]",
            "text/plain": [
              "<Figure size 432x288 with 1 Axes>"
            ]
          },
          "metadata": {}
        },
        {
          "output_type": "execute_result",
          "data": {
            "text/plain": [
              "<matplotlib.axes._subplots.AxesSubplot at 0x7fb850bbf5d0>"
            ]
          },
          "metadata": {},
          "execution_count": 66
        }
      ]
    },
    {
      "cell_type": "code",
      "metadata": {
        "colab": {
          "base_uri": "https://localhost:8080/",
          "height": 205
        },
        "id": "24e_c5nyFK0o",
        "outputId": "aae3145d-a24b-4316-cb4c-8d1f81b3949e"
      },
      "source": [
        "viz.viz_2D_topomap_intra(epo4, epo5,\n",
        "                         C1= result_intra[0],\n",
        "                         C2= result_intra[1],\n",
        "                         threshold='auto',\n",
        "                         steps=2,\n",
        "                         lab=False)"
      ],
      "execution_count": 67,
      "outputs": [
        {
          "output_type": "display_data",
          "data": {
            "image/png": "[encoded data removed]",
            "text/plain": [
              "<Figure size 432x288 with 1 Axes>"
            ]
          },
          "metadata": {}
        },
        {
          "output_type": "execute_result",
          "data": {
            "text/plain": [
              "<matplotlib.axes._subplots.AxesSubplot at 0x7fb850480490>"
            ]
          },
          "metadata": {},
          "execution_count": 67
        }
      ]
    }
  ]
}